{
 "cells": [
  {
   "cell_type": "markdown",
   "metadata": {},
   "source": [
    "# Relax and hold steady"
   ]
  },
  {
   "cell_type": "markdown",
   "metadata": {},
   "source": [
    "## Stokes flow"
   ]
  },
  {
   "cell_type": "markdown",
   "metadata": {},
   "source": [
    "This notebook presents the coding assignment for **Module 5** of the course [*\"Practical Numerical Methods with Python.*](https://github.com/numerical-mooc/numerical-mooc) Your mission is to solve Stokes flow in a square cavity, using the vorticity-streamfunction formulation.\n",
    "Stokes flow, also known as *creeping flow*, refers to flows that are dominated by viscous forces and not by the advective/convective forces.  The Stokes-flow assumption works well for flows that have very low Reynolds number, much smaller than 1: very slow, highly viscous or flows at microscopic length scales.  \n",
    "\n",
    "Stokes flow allows us to simplify the Navier-Stokes equations, eliminating the non-linearity.  Let's run through a quick derivation of the vorticity-transport equation with Stokes-flow assumptions.  "
   ]
  },
  {
   "cell_type": "markdown",
   "metadata": {},
   "source": [
    "### Vorticity"
   ]
  },
  {
   "cell_type": "markdown",
   "metadata": {},
   "source": [
    "We start with the Navier-Stokes equations for incompressible flow:\n",
    "\n",
    "\\begin{equation}\n",
    "\\frac{\\partial u}{\\partial t} + u \\cdot \\nabla u = -\\frac{1}{\\rho}\\nabla p + \\nu\\nabla^2 u\n",
    "\\end{equation}\n",
    "\n",
    "If we scale Equation $(1)$ to make it non-dimensional, we can rewrite it as\n",
    "\n",
    "\\begin{equation}\n",
    "Re \\left(\\frac{\\partial u^*}{\\partial t} + u^* \\cdot \\nabla u^* \\right) = -\\nabla p^* + \\nabla^2 u^*\n",
    "\\end{equation}\n",
    "\n",
    "Where $u^*$ and $p^*$ are the non-dimensional velocity and pressure, respectively.  \n",
    "\n",
    "To obtain Stokes flow, we assume that the Reynolds number approaches zero.  Applying that assumption to Equation $(2)$ and dropping the stars, yields\n",
    "\n",
    "\\begin{equation}\n",
    "0 = - \\nabla p + \\nabla^2 u\n",
    "\\end{equation}\n",
    "\n",
    "That simplified things!  Now, we apply the curl operator on both sides of the equation:\n",
    "\n",
    "\\begin{equation}\n",
    "\\nabla \\times 0 = \\nabla \\times \\left( - \\nabla p + \\nabla^2 u\\right)\n",
    "\\end{equation}\n",
    "\n",
    "The left-hand side remains zero, while the first term on the right-hand side is\n",
    "\n",
    "\\begin{equation}\n",
    "\\nabla \\times - \\nabla p = 0\n",
    "\\end{equation}\n",
    "\n",
    "because $\\nabla \\times \\nabla \\phi = 0$ where $\\phi$ is a scalar.\n",
    "\n",
    "Finally,\n",
    "\n",
    "\\begin{equation}\n",
    "\\nabla \\times \\nabla^2 u =\\nabla^2\\omega\n",
    "\\end{equation}\n",
    "\n",
    "where $\\nabla \\times u = \\omega$ is the vorticity.  \n",
    "\n",
    "Combining all of these equations, we arrive at the simplified vorticity transport equation for Stokes flow:\n",
    "\n",
    "\\begin{equation}\n",
    "\\nabla ^2 \\omega = 0\n",
    "\\end{equation}\n",
    "\n",
    "Look familiar?"
   ]
  },
  {
   "cell_type": "markdown",
   "metadata": {},
   "source": [
    "### Stream function"
   ]
  },
  {
   "cell_type": "markdown",
   "metadata": {},
   "source": [
    "Define the stream function $\\psi$, such that\n",
    "\n",
    "\\begin{equation}\n",
    "u = \\frac{\\partial \\psi}{\\partial y} \\text{   and   } v = - \\frac{\\partial \\psi}{\\partial x}\n",
    "\\end{equation}\n",
    "\n",
    "In 2D, we can write out the vorticity as\n",
    "\n",
    "\\begin{equation}\n",
    "\\omega = \\frac{\\partial v}{\\partial x} - \\frac{\\partial u}{\\partial y}\n",
    "\\end{equation}\n",
    "\n",
    "which, combined with the previous equation yields another familiar looking equation:\n",
    "\n",
    "\\begin{equation}\n",
    "\\nabla^2 \\psi = -\\omega\n",
    "\\end{equation}\n",
    "\n",
    "We have a system of two coupled equations that can describe the fluid flow in a lid-driven cavity at very low Reynolds numbers.  \n",
    "\n",
    "\\begin{equation}\n",
    "\\nabla^2 \\omega = 0\n",
    "\\end{equation}\n",
    "\n",
    "\\begin{equation}\n",
    "\\nabla^2 \\psi = -\\omega\n",
    "\\end{equation}\n",
    "\n",
    "Note that by substituting Equation $(12)$ into $(11)$, we arrive at a new equation: the *biharmonic equation*:\n",
    "\n",
    "\\begin{equation}\n",
    "\\nabla^4 \\psi= 0\n",
    "\\end{equation}"
   ]
  },
  {
   "cell_type": "markdown",
   "metadata": {},
   "source": [
    "### Solving the biharmonic equation"
   ]
  },
  {
   "cell_type": "markdown",
   "metadata": {},
   "source": [
    "Is it possible to discretize a 4th-order partial differential equation?  Of course!  Are we going to?  No!\n",
    "\n",
    "There's nothing wrong with a 4th-order equation, but in this course module we learned about the Poisson equation and that's what we're going to use.  "
   ]
  },
  {
   "cell_type": "markdown",
   "metadata": {},
   "source": [
    "## Cavity flow"
   ]
  },
  {
   "cell_type": "markdown",
   "metadata": {},
   "source": [
    "You will solve a problem called *lid-driven cavity flow*.  This is a common test problem for Navier-Stokes solvers—we'll be using it to examine Stokes flow.  \n",
    "\n",
    "Assume that the lid of a square cavity moves at a constant velocity of $u=1$, with no fluid leaking out past the moving lid. We we want to visualize what the flow field inside the cavity looks like at steady state.  \n",
    "\n",
    "All of the surfaces, including the lid, are assumed to have no-slip boundary conditions.  The boundary conditions are all specified in terms of the streamfunction $\\psi$, as shown below in Figure $(1)$.  "
   ]
  },
  {
   "cell_type": "markdown",
   "metadata": {},
   "source": [
    "<img src=\"./figures/drivencavity.svg\" width=400px>"
   ]
  },
  {
   "cell_type": "markdown",
   "metadata": {},
   "source": [
    "#### Figure 1. Lid-driven Cavity Flow"
   ]
  },
  {
   "cell_type": "markdown",
   "metadata": {},
   "source": [
    "### Boundary conditions"
   ]
  },
  {
   "cell_type": "markdown",
   "metadata": {},
   "source": [
    "One of the major hurdles with the vorticity-streamfunction formulation is the treatment of boundary conditions.  \n",
    "\n",
    "The boundary conditions are all specified in terms of $\\psi$ and its derivatives, but the Laplace equation\n",
    "\n",
    "$$\\nabla \\omega^2 = 0$$\n",
    "\n",
    "has no $\\psi$ value.  Instead, we need a way to represent the boundary conditions for $\\omega$ in terms of $\\psi$.  \n",
    "\n",
    "Consider the equation $\\nabla ^2 \\psi = -\\omega$ along the top surface of the cavity (the moving surface).  There can't be any velocity in the $y$-direction because the surface is solid, so $\\frac{\\partial ^2 \\psi}{\\partial x^2}$ goes to zero and the equation simplifies to\n",
    "\n",
    "\\begin{equation}\n",
    "\\frac{\\partial ^2 \\psi}{\\partial y^2} = -\\omega\n",
    "\\end{equation}"
   ]
  },
  {
   "cell_type": "markdown",
   "metadata": {},
   "source": [
    "A 2nd-order central difference discretization gives\n",
    "\n",
    "\\begin{equation}\n",
    "\\omega_j = - \\left(\\frac{\\psi_{j+1} - 2\\psi_j + \\psi_{j-1}}{\\Delta y^2}\\right)\n",
    "\\end{equation}\n",
    "\n",
    "but the value $\\psi_{j+1}$ is outside of the domain.  Now take a 3rd-order discretization of $\\frac{\\partial \\psi}{\\partial y}$ evaluated along the top edge.\n",
    "\n",
    "\\begin{equation}\n",
    "\\left.\\frac{\\partial \\psi}{\\partial y}\\right|_j = \\frac{2\\psi_{j+1} + 3\\psi_j - 6\\psi_{j-1} + \\psi_{j-2}}{6 \\Delta y}\n",
    "\\end{equation}\n",
    "\n",
    "$\\frac{\\partial \\psi}{\\partial y}$ is a given boundary value in the problem along the top edge\n",
    "\n",
    "\\begin{equation}\n",
    "\\left.\\frac{\\partial \\psi}{\\partial y}\\right|_j = u_j\n",
    "\\end{equation}\n",
    "\n",
    "which leaves us with a value for $\\psi_{j+1}$ that consists only of points within the domain.  \n",
    "\n",
    "\\begin{equation}\n",
    "\\psi_{j+1} = \\frac{6\\Delta y u_j - 3\\psi_j + 6 \\psi_{j-1} - \\psi_{j-2}}{2}\n",
    "\\end{equation}\n",
    "\n",
    "Plug in that result into the initial discretization from Equation $(16)$ and we have a boundary condition for $\\omega$ along the top surface in terms of $\\psi$:\n",
    "\n",
    "\\begin{equation}\n",
    "\\omega_{i,j} = -\\frac{1}{2 \\Delta y^2} (8\\psi_{i, j-1} - \\psi_{i, j-2}) - \\frac{3u_j}{\\Delta y} + \\mathcal{O}(\\Delta y^2)\n",
    "\\end{equation}"
   ]
  },
  {
   "cell_type": "markdown",
   "metadata": {},
   "source": [
    "### Coding assignment"
   ]
  },
  {
   "cell_type": "code",
   "execution_count": 537,
   "metadata": {
    "collapsed": true
   },
   "outputs": [],
   "source": [
    "from mpl_toolkits.mplot3d import Axes3D\n",
    "from matplotlib import pyplot, cm\n",
    "from math import pi\n",
    "import numpy\n",
    "%matplotlib inline\n",
    "from matplotlib import rcParams\n",
    "rcParams['font.family'] = 'serif'\n",
    "rcParams['font.size'] = 16\n",
    "\n",
    "from laplace_helper import L2_rel_error"
   ]
  },
  {
   "cell_type": "markdown",
   "metadata": {},
   "source": [
    "Solve Stokes flow in a lid-driven cavity using the parameters given below.  \n",
    "\n",
    "You should iteratively solve for both $\\omega$ and $\\psi$ until the L1 norm of the difference between successive iterations is less than $1$$\\tt{E}$$^-6$ for **both** quantities.  "
   ]
  },
  {
   "cell_type": "markdown",
   "metadata": {},
   "source": [
    "### Parameters and Initial Conditions"
   ]
  },
  {
   "cell_type": "code",
   "execution_count": 538,
   "metadata": {
    "collapsed": false
   },
   "outputs": [],
   "source": [
    "nx = 41\n",
    "ny = 41\n",
    "\n",
    "l = 1.\n",
    "h = 1.\n",
    "\n",
    "dx = l/(nx-1)\n",
    "dy = h/(ny-1)\n",
    "\n",
    "l1_target = 1e-6\n",
    "l2_target = 1e-6\n",
    "\n",
    "\n",
    "# Initialization\n",
    "omega  = numpy.zeros((ny,nx))\n",
    "psi  = numpy.zeros((ny,nx))\n",
    "U_top  = numpy.ones((ny-3))\n",
    "x = numpy.linspace(0,1,nx)\n",
    "y = numpy.linspace(0,1,ny)\n",
    "psi[-2,:] = 1"
   ]
  },
  {
   "cell_type": "markdown",
   "metadata": {},
   "source": [
    "### Plot initial conditions"
   ]
  },
  {
   "cell_type": "code",
   "execution_count": 539,
   "metadata": {
    "collapsed": false
   },
   "outputs": [
    {
     "data": {
      "image/png": "[encoded data removed]",
      "text/plain": [
       "<matplotlib.figure.Figure at 0x7ff241ca0f60>"
      ]
     },
     "metadata": {},
     "output_type": "display_data"
    }
   ],
   "source": [
    "pyplot.figure(figsize=(7,7))\n",
    "pyplot.contourf(x,y,psi,20, cmap=cm.viridis);\n",
    "\n"
   ]
  },
  {
   "cell_type": "markdown",
   "metadata": {},
   "source": [
    "### Helper Functions"
   ]
  },
  {
   "cell_type": "markdown",
   "metadata": {},
   "source": [
    "#### L1_norm"
   ]
  },
  {
   "cell_type": "code",
   "execution_count": 540,
   "metadata": {
    "collapsed": false
   },
   "outputs": [],
   "source": [
    "def L1norm(new, old):\n",
    "    norm = numpy.sum(numpy.abs(new-old))\n",
    "    return norm"
   ]
  },
  {
   "cell_type": "markdown",
   "metadata": {},
   "source": [
    "#### L2_error"
   ]
  },
  {
   "cell_type": "code",
   "execution_count": 541,
   "metadata": {
    "collapsed": true
   },
   "outputs": [],
   "source": [
    "def L2_error(p, pn):\n",
    "    return numpy.sqrt(numpy.sum((p - pn)**2)/numpy.sum(pn**2))"
   ]
  },
  {
   "cell_type": "markdown",
   "metadata": {},
   "source": [
    "#### Laplace_2d"
   ]
  },
  {
   "cell_type": "code",
   "execution_count": 547,
   "metadata": {
    "collapsed": true
   },
   "outputs": [],
   "source": [
    "def laplace2d(omega, psi, l2_target):\n",
    "    '''Iteratively solves the Laplace equation using the Jacobi method\n",
    "    \n",
    "    Parameters:\n",
    "    ----------\n",
    "    p: 2D array of float\n",
    "        Initial potential distribution\n",
    "    l2_target: float\n",
    "        target for the difference between consecutive solutions\n",
    "        \n",
    "    Returns:\n",
    "    -------\n",
    "    p: 2D array of float\n",
    "        Potential distribution after relaxation\n",
    "    '''\n",
    "    \n",
    "    l2norm = 1\n",
    "    omega_n = numpy.empty_like(omega)\n",
    "    iterations = 0\n",
    "    while l2norm > l2_target:\n",
    "        omega_n = omega.copy()\n",
    "        omega[1:-1,1:-1] = .25 * (omega_n[1:-1,2:] + omega_n[1:-1, :-2] \\\n",
    "                              + omega_n[2:, 1:-1] + omega_n[:-2, 1:-1])\n",
    "        \n",
    "        # update velocity\n",
    "        U_top = (psi[-2,:] - psi[-1,:]) /(dy)\n",
    "        U_bottom = (psi[1,:] - psi[0,:]) /(dy)\n",
    "        U_left = (psi[:,-2] - psi[:,-1]) /(dy)\n",
    "        U_right = (psi[:,1] - psi[:,0]) /(dy)\n",
    "\n",
    "        \n",
    "        # Apply Neumann BC to omega\n",
    "        #omega[-1,2:-1] = (1/2*dy**2) * (8*psi[-1,1:-2] - psi[-1,:-3]) #- 3*(U_top[2:-1]+1) / dy\n",
    "        #omega[0,2:-1] = (1/2*dy**2) * (8*psi[0,1:-2] - psi[0,:-3]) #- 3*U_bottom[2:-1] / dy\n",
    "        #omega[2:-1,0] = (1/2*dy**2) * (8*psi[1:-2,0] - psi[:-3,0]) #- 3*U_left[2:-1] / dx\n",
    "        #omega[2:-1,-1] = (1/2*dy**2) * (8*psi[1:-2,-1] - psi[:-3,-1]) #- 3*U_right[2:-1] / dx\n",
    "        #p[1:-1, -1] = p[1:-1, -2]\n",
    "        l2norm = L2_error(omega, omega_n)\n",
    "     \n",
    "    return omega"
   ]
  },
  {
   "cell_type": "markdown",
   "metadata": {},
   "source": [
    "#### Poisson_2d (Jacobi)"
   ]
  },
  {
   "cell_type": "code",
   "execution_count": 548,
   "metadata": {
    "collapsed": false
   },
   "outputs": [],
   "source": [
    "def poisson_2d(omega, psi, dx, dy, l1_target):\n",
    "    '''Performs Jacobi relaxation\n",
    "    \n",
    "    Parameters:\n",
    "    ----------\n",
    "    omega : 2D array of floats\n",
    "        Vorticity\n",
    "    psi : 2D array of floats\n",
    "        Stream function\n",
    "    dx: float\n",
    "        Mesh spacing in x direction\n",
    "    dy: float\n",
    "        Mesh spacing in y direction\n",
    "    l2_target: float\n",
    "        Target difference between two consecutive iterates\n",
    "    \n",
    "    Returns:\n",
    "    -------\n",
    "    omega: 2D array of float\n",
    "        Distribution after relaxation\n",
    "    psi: 2D array of float\n",
    "        Distribution after relaxation    \n",
    "    '''\n",
    "\n",
    "    l1_norm = 1\n",
    "    iterations = 0\n",
    "    l1_conv = []\n",
    "    \n",
    "    omega_old = omega.copy()\n",
    "    \n",
    "    while l1_norm > l1_target:\n",
    "        \n",
    "        # compute Psi\n",
    "        psi_d = psi.copy()\n",
    "        \n",
    "        psi[1:-1,1:-1] = 1/(2*(dx**2 + dy**2)) * \\\n",
    "                        ((psi_d[1:-1,2:] + psi_d[1:-1,:-2])*dy**2 +\\\n",
    "                        (psi_d[2:,1:-1] + psi_d[:-2,1:-1])*dx**2 -\\\n",
    "                         omega[1:-1,1:-1])\n",
    "        \n",
    "        \n",
    "        # Dirichlet BCs\n",
    "        psi[0,:] = 0    #psi[1,:]\n",
    "        psi[-1,:] = 0   #psi[-2,:] + 1\n",
    "        psi[:,0] = 0    #psi[:,1]\n",
    "        psi[:,-1] = 0   #psi[:,-2]\n",
    "        \n",
    "        # compute Omega\n",
    "        omega = laplace2d(omega.copy(), psi.copy(),l2_target)\n",
    "                        \n",
    "        # complute L1 norm\n",
    "        l1_norm = L1norm(psi,psi_d)\n",
    "        \n",
    "        iterations += 1\n",
    "        l1_conv.append(l1_norm)\n",
    "    \n",
    "    print('Number of Jacobi iterations: {0:d}'.format(iterations))\n",
    "    return omega, psi, l1_conv        "
   ]
  },
  {
   "cell_type": "markdown",
   "metadata": {},
   "source": [
    "### Run Simulation"
   ]
  },
  {
   "cell_type": "code",
   "execution_count": 549,
   "metadata": {
    "collapsed": false
   },
   "outputs": [
    {
     "name": "stdout",
     "output_type": "stream",
     "text": [
      "Number of Jacobi iterations: 6525\n"
     ]
    }
   ],
   "source": [
    "# compute psi\n",
    "omega, psi, l2_conv = poisson_2d(psi.copy(), omega.copy(), dx, dy, l1_target)\n",
    "\n",
    "\n",
    " "
   ]
  },
  {
   "cell_type": "markdown",
   "metadata": {},
   "source": [
    "### Plot Result"
   ]
  },
  {
   "cell_type": "code",
   "execution_count": 550,
   "metadata": {
    "collapsed": false
   },
   "outputs": [
    {
     "name": "stdout",
     "output_type": "stream",
     "text": [
      "max omega:  1.0\n",
      "max psi:  310.364845989\n",
      "[   0.     -276.1066 -257.9635 -257.9635 -276.1066    0.    ]\n"
     ]
    },
    {
     "data": {
      "image/png": "[encoded data removed]",
      "text/plain": [
       "<matplotlib.figure.Figure at 0x7ff241a61b70>"
      ]
     },
     "metadata": {},
     "output_type": "display_data"
    }
   ],
   "source": [
    "#pyplot.figure(figsize=(7,7))\n",
    "#pyplot.contourf(x,y,omega,20, cmap=cm.viridis);\n",
    "\n",
    "pyplot.figure(figsize=(7,7))\n",
    "pyplot.contourf(x,y,psi,20, cmap=cm.viridis);\n",
    "print('max omega: ', numpy.amax(numpy.abs(omega)))\n",
    "print('max psi: ', numpy.amax(numpy.abs(psi)))\n",
    "\n",
    "print(numpy.round(psi[32,::8], 4))"
   ]
  },
  {
   "cell_type": "markdown",
   "metadata": {},
   "source": [
    "The final result should resemble the plot shown in Figure $(2)$."
   ]
  },
  {
   "cell_type": "markdown",
   "metadata": {},
   "source": [
    "##### Hint"
   ]
  },
  {
   "cell_type": "markdown",
   "metadata": {},
   "source": [
    "The boundary conditions for $\\omega$ depend upon the current value of $\\psi$.  The two equations are *coupled*.  If you try to solve them in a *uncoupled* way, things will go poorly.  "
   ]
  },
  {
   "cell_type": "markdown",
   "metadata": {},
   "source": [
    "<img src=\"./figures/stokes_contour.svg\">"
   ]
  },
  {
   "cell_type": "markdown",
   "metadata": {},
   "source": [
    "#### Figure 2.  Contour plot of streamfunction at steady state"
   ]
  },
  {
   "cell_type": "markdown",
   "metadata": {},
   "source": [
    "### References"
   ]
  },
  {
   "cell_type": "markdown",
   "metadata": {},
   "source": [
    "*  Fletcher, C. A. (1988). Computational Techniques for Fluid Dynamics: Volume 2: Specific Techniques for Different Flow Categories.\n",
    "\n",
    "*  Ghia, U. K. N. G., Ghia, K. N., & Shin, C. T. (1982). High-Re solutions for incompressible flow using the Navier-Stokes equations and a multigrid method. Journal of computational physics, 48(3), 387-411.\n",
    "\n",
    "* Greenspan, D. (1974). Discrete numerical methods in physics and engineering (Vol. 312). New York: Academic Press.\n",
    "\n",
    "* Heil, Matthias (2007).  [Viscous Fluid Flow Vorticity Handout (pdf)](http://www.maths.manchester.ac.uk/~mheil/Lectures/Fluids/Material_2007/Vorticity.pdf)\n",
    "\n",
    "* Non-dimensionalization and scaling of the Navier Stokes equations.  (n.d.). In *Wikipedia*.  Retrieved January 30, 2015 [http://en.wikipedia.org/w/index.php?title=Non-dimensionalization_and_scaling_of_the_Navier-Stokes_equations](http://en.wikipedia.org/w/index.php?title=Non-dimensionalization_and_scaling_of_the_Navier%E2%80%93Stokes_equations&oldid=641860920)"
   ]
  },
  {
   "cell_type": "code",
   "execution_count": null,
   "metadata": {
    "collapsed": false
   },
   "outputs": [],
   "source": [
    "from IPython.core.display import HTML\n",
    "css_file = '../../styles/numericalmoocstyle.css'\n",
    "HTML(open(css_file, \"r\").read())"
   ]
  }
 ],
 "metadata": {
  "kernelspec": {
   "display_name": "Python [Root]",
   "language": "python",
   "name": "Python [Root]"
  },
  "language_info": {
   "codemirror_mode": {
    "name": "ipython",
    "version": 3
   },
   "file_extension": ".py",
   "mimetype": "text/x-python",
   "name": "python",
   "nbconvert_exporter": "python",
   "pygments_lexer": "ipython3",
   "version": "3.5.2"
  }
 },
 "nbformat": 4,
 "nbformat_minor": 0
}
