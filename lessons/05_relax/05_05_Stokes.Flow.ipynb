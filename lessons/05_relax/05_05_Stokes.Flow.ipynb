{
 "cells": [
  {
   "cell_type": "markdown",
   "metadata": {},
   "source": [
    "# Relax and hold steady"
   ]
  },
  {
   "cell_type": "markdown",
   "metadata": {},
   "source": [
    "## Stokes flow"
   ]
  },
  {
   "cell_type": "markdown",
   "metadata": {},
   "source": [
    "This notebook presents the coding assignment for **Module 5** of the course [*\"Practical Numerical Methods with Python.*](https://github.com/numerical-mooc/numerical-mooc) Your mission is to solve Stokes flow in a square cavity, using the vorticity-streamfunction formulation.\n",
    "Stokes flow, also known as *creeping flow*, refers to flows that are dominated by viscous forces and not by the advective/convective forces.  The Stokes-flow assumption works well for flows that have very low Reynolds number, much smaller than 1: very slow, highly viscous or flows at microscopic length scales.  \n",
    "\n",
    "Stokes flow allows us to simplify the Navier-Stokes equations, eliminating the non-linearity.  Let's run through a quick derivation of the vorticity-transport equation with Stokes-flow assumptions.  "
   ]
  },
  {
   "cell_type": "markdown",
   "metadata": {},
   "source": [
    "### Vorticity"
   ]
  },
  {
   "cell_type": "markdown",
   "metadata": {},
   "source": [
    "We start with the Navier-Stokes equations for incompressible flow:\n",
    "\n",
    "\\begin{equation}\n",
    "\\frac{\\partial u}{\\partial t} + u \\cdot \\nabla u = -\\frac{1}{\\rho}\\nabla p + \\nu\\nabla^2 u\n",
    "\\end{equation}\n",
    "\n",
    "If we scale Equation $(1)$ to make it non-dimensional, we can rewrite it as\n",
    "\n",
    "\\begin{equation}\n",
    "Re \\left(\\frac{\\partial u^*}{\\partial t} + u^* \\cdot \\nabla u^* \\right) = -\\nabla p^* + \\nabla^2 u^*\n",
    "\\end{equation}\n",
    "\n",
    "Where $u^*$ and $p^*$ are the non-dimensional velocity and pressure, respectively.  \n",
    "\n",
    "To obtain Stokes flow, we assume that the Reynolds number approaches zero.  Applying that assumption to Equation $(2)$ and dropping the stars, yields\n",
    "\n",
    "\\begin{equation}\n",
    "0 = - \\nabla p + \\nabla^2 u\n",
    "\\end{equation}\n",
    "\n",
    "That simplified things!  Now, we apply the curl operator on both sides of the equation:\n",
    "\n",
    "\\begin{equation}\n",
    "\\nabla \\times 0 = \\nabla \\times \\left( - \\nabla p + \\nabla^2 u\\right)\n",
    "\\end{equation}\n",
    "\n",
    "The left-hand side remains zero, while the first term on the right-hand side is\n",
    "\n",
    "\\begin{equation}\n",
    "\\nabla \\times - \\nabla p = 0\n",
    "\\end{equation}\n",
    "\n",
    "because $\\nabla \\times \\nabla \\phi = 0$ where $\\phi$ is a scalar.\n",
    "\n",
    "Finally,\n",
    "\n",
    "\\begin{equation}\n",
    "\\nabla \\times \\nabla^2 u =\\nabla^2\\omega\n",
    "\\end{equation}\n",
    "\n",
    "where $\\nabla \\times u = \\omega$ is the vorticity.  \n",
    "\n",
    "Combining all of these equations, we arrive at the simplified vorticity transport equation for Stokes flow:\n",
    "\n",
    "\\begin{equation}\n",
    "\\nabla ^2 \\omega = 0\n",
    "\\end{equation}\n",
    "\n",
    "Look familiar?"
   ]
  },
  {
   "cell_type": "markdown",
   "metadata": {},
   "source": [
    "### Stream function"
   ]
  },
  {
   "cell_type": "markdown",
   "metadata": {},
   "source": [
    "Define the stream function $\\psi$, such that\n",
    "\n",
    "\\begin{equation}\n",
    "u = \\frac{\\partial \\psi}{\\partial y} \\text{   and   } v = - \\frac{\\partial \\psi}{\\partial x}\n",
    "\\end{equation}\n",
    "\n",
    "In 2D, we can write out the vorticity as\n",
    "\n",
    "\\begin{equation}\n",
    "\\omega = \\frac{\\partial v}{\\partial x} - \\frac{\\partial u}{\\partial y}\n",
    "\\end{equation}\n",
    "\n",
    "which, combined with the previous equation yields another familiar looking equation:\n",
    "\n",
    "\\begin{equation}\n",
    "\\nabla^2 \\psi = -\\omega\n",
    "\\end{equation}\n",
    "\n",
    "We have a system of two coupled equations that can describe the fluid flow in a lid-driven cavity at very low Reynolds numbers.  \n",
    "\n",
    "\\begin{equation}\n",
    "\\nabla^2 \\omega = 0\n",
    "\\end{equation}\n",
    "\n",
    "\\begin{equation}\n",
    "\\nabla^2 \\psi = -\\omega\n",
    "\\end{equation}\n",
    "\n",
    "Note that by substituting Equation $(12)$ into $(11)$, we arrive at a new equation: the *biharmonic equation*:\n",
    "\n",
    "\\begin{equation}\n",
    "\\nabla^4 \\psi= 0\n",
    "\\end{equation}"
   ]
  },
  {
   "cell_type": "markdown",
   "metadata": {},
   "source": [
    "### Solving the biharmonic equation"
   ]
  },
  {
   "cell_type": "markdown",
   "metadata": {},
   "source": [
    "Is it possible to discretize a 4th-order partial differential equation?  Of course!  Are we going to?  No!\n",
    "\n",
    "There's nothing wrong with a 4th-order equation, but in this course module we learned about the Poisson equation and that's what we're going to use.  "
   ]
  },
  {
   "cell_type": "markdown",
   "metadata": {},
   "source": [
    "## Cavity flow"
   ]
  },
  {
   "cell_type": "markdown",
   "metadata": {},
   "source": [
    "You will solve a problem called *lid-driven cavity flow*.  This is a common test problem for Navier-Stokes solvers—we'll be using it to examine Stokes flow.  \n",
    "\n",
    "Assume that the lid of a square cavity moves at a constant velocity of $u=1$, with no fluid leaking out past the moving lid. We we want to visualize what the flow field inside the cavity looks like at steady state.  \n",
    "\n",
    "All of the surfaces, including the lid, are assumed to have no-slip boundary conditions.  The boundary conditions are all specified in terms of the streamfunction $\\psi$, as shown below in Figure $(1)$.  "
   ]
  },
  {
   "cell_type": "markdown",
   "metadata": {},
   "source": [
    "<img src=\"./figures/drivencavity.svg\" width=400px>"
   ]
  },
  {
   "cell_type": "markdown",
   "metadata": {},
   "source": [
    "#### Figure 1. Lid-driven Cavity Flow"
   ]
  },
  {
   "cell_type": "markdown",
   "metadata": {},
   "source": [
    "### Boundary conditions"
   ]
  },
  {
   "cell_type": "markdown",
   "metadata": {},
   "source": [
    "One of the major hurdles with the vorticity-streamfunction formulation is the treatment of boundary conditions.  \n",
    "\n",
    "The boundary conditions are all specified in terms of $\\psi$ and its derivatives, but the Laplace equation\n",
    "\n",
    "$$\\nabla \\omega^2 = 0$$\n",
    "\n",
    "has no $\\psi$ value.  Instead, we need a way to represent the boundary conditions for $\\omega$ in terms of $\\psi$.  \n",
    "\n",
    "Consider the equation $\\nabla ^2 \\psi = -\\omega$ along the top surface of the cavity (the moving surface).  There can't be any velocity in the $y$-direction because the surface is solid, so $\\frac{\\partial ^2 \\psi}{\\partial x^2}$ goes to zero and the equation simplifies to\n",
    "\n",
    "\\begin{equation}\n",
    "\\frac{\\partial ^2 \\psi}{\\partial y^2} = -\\omega\n",
    "\\end{equation}"
   ]
  },
  {
   "cell_type": "markdown",
   "metadata": {},
   "source": [
    "A 2nd-order central difference discretization gives\n",
    "\n",
    "\\begin{equation}\n",
    "\\omega_j = - \\left(\\frac{\\psi_{j+1} - 2\\psi_j + \\psi_{j-1}}{\\Delta y^2}\\right)\n",
    "\\end{equation}\n",
    "\n",
    "but the value $\\psi_{j+1}$ is outside of the domain.  Now take a 3rd-order discretization of $\\frac{\\partial \\psi}{\\partial y}$ evaluated along the top edge.\n",
    "\n",
    "\\begin{equation}\n",
    "\\left.\\frac{\\partial \\psi}{\\partial y}\\right|_j = \\frac{2\\psi_{j+1} + 3\\psi_j - 6\\psi_{j-1} + \\psi_{j-2}}{6 \\Delta y}\n",
    "\\end{equation}\n",
    "\n",
    "$\\frac{\\partial \\psi}{\\partial y}$ is a given boundary value in the problem along the top edge\n",
    "\n",
    "\\begin{equation}\n",
    "\\left.\\frac{\\partial \\psi}{\\partial y}\\right|_j = u_j\n",
    "\\end{equation}\n",
    "\n",
    "which leaves us with a value for $\\psi_{j+1}$ that consists only of points within the domain.  \n",
    "\n",
    "\\begin{equation}\n",
    "\\psi_{j+1} = \\frac{6\\Delta y u_j - 3\\psi_j + 6 \\psi_{j-1} - \\psi_{j-2}}{2}\n",
    "\\end{equation}\n",
    "\n",
    "Plug in that result into the initial discretization from Equation $(16)$ and we have a boundary condition for $\\omega$ along the top surface in terms of $\\psi$:\n",
    "\n",
    "\\begin{equation}\n",
    "\\omega_{i,j} = -\\frac{1}{2 \\Delta y^2} (8\\psi_{i, j-1} - \\psi_{i, j-2}) - \\frac{3u_j}{\\Delta y} + \\mathcal{O}(\\Delta y^2)\n",
    "\\end{equation}"
   ]
  },
  {
   "cell_type": "markdown",
   "metadata": {},
   "source": [
    "### Coding assignment"
   ]
  },
  {
   "cell_type": "code",
   "execution_count": 999,
   "metadata": {
    "collapsed": true
   },
   "outputs": [],
   "source": [
    "from mpl_toolkits.mplot3d import Axes3D\n",
    "from matplotlib import pyplot, cm\n",
    "from math import pi\n",
    "import numpy\n",
    "%matplotlib inline\n",
    "from matplotlib import rcParams\n",
    "rcParams['font.family'] = 'serif'\n",
    "rcParams['font.size'] = 16\n",
    "\n",
    "from laplace_helper import L2_rel_error"
   ]
  },
  {
   "cell_type": "markdown",
   "metadata": {},
   "source": [
    "Solve Stokes flow in a lid-driven cavity using the parameters given below.  \n",
    "\n",
    "You should iteratively solve for both $\\omega$ and $\\psi$ until the L1 norm of the difference between successive iterations is less than $1$$\\tt{E}$$^-6$ for **both** quantities.  "
   ]
  },
  {
   "cell_type": "markdown",
   "metadata": {},
   "source": [
    "### Parameters and Initial Conditions"
   ]
  },
  {
   "cell_type": "code",
   "execution_count": 1000,
   "metadata": {
    "collapsed": false
   },
   "outputs": [],
   "source": [
    "nx = 41\n",
    "ny = 41\n",
    "\n",
    "l = 1.\n",
    "h = 1.\n",
    "\n",
    "dx = l/(nx-1)\n",
    "dy = h/(ny-1)\n",
    "\n",
    "l1_target = 1e-6\n",
    "\n",
    "# Initialization\n",
    "omega  = numpy.zeros((ny,nx))\n",
    "psi  = numpy.zeros((ny,nx))\n",
    "psi[-2,:] = 1\n",
    "\n",
    "U[1:-1,1:-1] = (psi[1:-1,1:-1] - psi[:-2,1:-1])/dy\n",
    "\n",
    "omega[2:-1,2:-1] = (1/2*dy**2) * (8*psi[2:-1,1:-2] - psi[2:-1,:-3]) - 3*U[2:-1,2:-1]/dy\n",
    "omega[2:-1,0] += U[2:-1,0]\n",
    "omega[2:-1,1] += U[2:-1,1]\n",
    "omega[2:-1,-1] += U[2:-1,-1]\n",
    "\n",
    "omega[0, 2:-1] += U[0, 2:-1]\n",
    "omega[1, 2:-1] += U[1, 2:-1]\n",
    "omega[-1, 2:-1] += U[2, 2:-1]\n"
   ]
  },
  {
   "cell_type": "markdown",
   "metadata": {},
   "source": [
    "### Plot initial conditions"
   ]
  },
  {
   "cell_type": "code",
   "execution_count": 1001,
   "metadata": {
    "collapsed": false
   },
   "outputs": [
    {
     "data": {
      "image/png": "[encoded data removed]",
      "text/plain": [
       "<matplotlib.figure.Figure at 0x7f687906def0>"
      ]
     },
     "metadata": {},
     "output_type": "display_data"
    },
    {
     "data": {
      "image/png": "[encoded data removed]",
      "text/plain": [
       "<matplotlib.figure.Figure at 0x7f68792f90b8>"
      ]
     },
     "metadata": {},
     "output_type": "display_data"
    }
   ],
   "source": [
    "pyplot.figure(figsize=(7,7))\n",
    "pyplot.contourf(x,y,omega,20, cmap=cm.viridis);\n",
    "\n",
    "pyplot.figure(figsize=(7,7))\n",
    "pyplot.contourf(x,y,psi,20, cmap=cm.viridis);"
   ]
  },
  {
   "cell_type": "markdown",
   "metadata": {},
   "source": [
    "### Helper Functions"
   ]
  },
  {
   "cell_type": "markdown",
   "metadata": {},
   "source": [
    "#### L1_norm"
   ]
  },
  {
   "cell_type": "code",
   "execution_count": 1002,
   "metadata": {
    "collapsed": false
   },
   "outputs": [],
   "source": [
    "def L1norm(new, old):\n",
    "    norm = numpy.sum(numpy.abs(new-old))\n",
    "    return norm"
   ]
  },
  {
   "cell_type": "markdown",
   "metadata": {},
   "source": [
    "#### Jacobi"
   ]
  },
  {
   "cell_type": "code",
   "execution_count": 1003,
   "metadata": {
    "collapsed": false
   },
   "outputs": [],
   "source": [
    "def poisson_2d(omega, psi, dx, dy, l1_target):\n",
    "    '''Performs Jacobi relaxation\n",
    "    \n",
    "    Parameters:\n",
    "    ----------\n",
    "    omega : 2D array of floats\n",
    "        Initial guess\n",
    "    psi : 2D array of floats\n",
    "        Initial Condition\n",
    "    dx: float\n",
    "        Mesh spacing in x direction\n",
    "    dy: float\n",
    "        Mesh spacing in y direction\n",
    "    l2_target: float\n",
    "        Target difference between two consecutive iterates\n",
    "    \n",
    "    Returns:\n",
    "    -------\n",
    "    omega: 2D array of float\n",
    "        Distribution after relaxation\n",
    "    psi: 2D array of float\n",
    "        Distribution after relaxation    \n",
    "    '''\n",
    "\n",
    "    l1_norm = 1\n",
    "    iterations = 0\n",
    "    l1_conv = []\n",
    "    \n",
    "    omega_old = omega.copy()\n",
    "    \n",
    "    while l1_norm > l1_target:\n",
    "        \n",
    "        # compute velocity U\n",
    "        U[1:-1,1:-1] = (psi[1:-1,1:-1] - psi[:-2,1:-1])/dy    \n",
    "        \n",
    "        # compute Psi\n",
    "        psi_d = psi.copy()\n",
    "        psi_jplus1 = (6*dy*U[2:-1,:] - 3*psi[2:-1,:] + 6*psi[1:-2,:] - psi[:-3,:]) / 2.\n",
    "        \n",
    "        psi[1:-1,1:-1] = 1/(2*(dx**2 + dy**2)) * \\\n",
    "                        ((psi_d[1:-1,2:] + psi_d[1:-1,:-2])*dy**2 +\\\n",
    "                        (psi_d[2:,1:-1] + psi_d[:-2,1:-1])*dx**2 -\\\n",
    "                         omega_old[1:-1,1:-1])\n",
    "        \n",
    "        \n",
    "        # 1st order Neumann BCs\n",
    "        #psi[0,:] = psi[1,:]\n",
    "        psi[-1,:] = psi[-2,:] + 1\n",
    "        #psi[:,0] = psi[:,1]\n",
    "        #psi[:,-1] = psi[:,-2]\n",
    "\n",
    "        # Compute omega\n",
    "        omega_d = omega.copy()\n",
    "        \n",
    "        omega[1:-1,1:-1] = -1/(2*(dx**2 + dy**2)) * \\\n",
    "                        ((psi[1:-1,2:] + psi[1:-1,:-2])*dy**2 +\\\n",
    "                        (psi[2:,1:-1] + psi[:-2,1:-1])*dx**2)\n",
    "        \n",
    "        omega[2:-1,2:-1] = (1/2*dy**2) * (8*psi[2:-1,1:-2] - psi[2:-1,:-3]) - 3*U[2:-1,2:-1]/dy\n",
    "        \n",
    "        # complute L1 norm\n",
    "        l1_norm = L1norm(psi,psi_d)\n",
    "        \n",
    "        iterations += 1\n",
    "        l1_conv.append(l1_norm)\n",
    "    \n",
    "    print('Number of Jacobi iterations: {0:d}'.format(iterations))\n",
    "    return U, psi, omega, l1_conv        "
   ]
  },
  {
   "cell_type": "markdown",
   "metadata": {},
   "source": [
    "### Run Simulation"
   ]
  },
  {
   "cell_type": "code",
   "execution_count": 1004,
   "metadata": {
    "collapsed": false
   },
   "outputs": [
    {
     "name": "stdout",
     "output_type": "stream",
     "text": [
      "Number of Jacobi iterations: 12148\n"
     ]
    }
   ],
   "source": [
    "U, psi, omega, l2_conv = poisson_2d(psi.copy(), omega.copy(), dx, dy, l1_target)\n"
   ]
  },
  {
   "cell_type": "markdown",
   "metadata": {},
   "source": [
    "### Plot Result"
   ]
  },
  {
   "cell_type": "code",
   "execution_count": 1005,
   "metadata": {
    "collapsed": false
   },
   "outputs": [
    {
     "name": "stdout",
     "output_type": "stream",
     "text": [
      "max omega:  7294496.79331\n",
      "max psi:  1.0\n",
      "[     0.      -8842.8667 -13275.3151 -13275.3151  -8842.8667      0.    ]\n"
     ]
    },
    {
     "data": {
      "image/png": "[encoded data removed]",
      "text/plain": [
       "<matplotlib.figure.Figure at 0x7f68793b8748>"
      ]
     },
     "metadata": {},
     "output_type": "display_data"
    },
    {
     "data": {
      "image/png": "[encoded data removed]",
      "text/plain": [
       "<matplotlib.figure.Figure at 0x7f6879475cc0>"
      ]
     },
     "metadata": {},
     "output_type": "display_data"
    },
    {
     "data": {
      "image/png": "[encoded data removed]",
      "text/plain": [
       "<matplotlib.figure.Figure at 0x7f6879c4de48>"
      ]
     },
     "metadata": {},
     "output_type": "display_data"
    }
   ],
   "source": [
    "pyplot.figure(figsize=(7,7))\n",
    "pyplot.contourf(x,y,U,20, cmap=cm.viridis);\n",
    "\n",
    "pyplot.figure(figsize=(7,7))\n",
    "pyplot.contourf(x,y,omega,20, cmap=cm.viridis);\n",
    "\n",
    "pyplot.figure(figsize=(7,7))\n",
    "pyplot.contourf(x,y,psi,20, cmap=cm.viridis);\n",
    "print('max omega: ', numpy.amax(omega))\n",
    "print('max psi: ', numpy.amax(psi))\n",
    "\n",
    "print(numpy.round(psi[32,::8], 4))"
   ]
  },
  {
   "cell_type": "markdown",
   "metadata": {},
   "source": [
    "The final result should resemble the plot shown in Figure $(2)$."
   ]
  },
  {
   "cell_type": "markdown",
   "metadata": {},
   "source": [
    "##### Hint"
   ]
  },
  {
   "cell_type": "markdown",
   "metadata": {},
   "source": [
    "The boundary conditions for $\\omega$ depend upon the current value of $\\psi$.  The two equations are *coupled*.  If you try to solve them in a *uncoupled* way, things will go poorly.  "
   ]
  },
  {
   "cell_type": "markdown",
   "metadata": {},
   "source": [
    "<img src=\"./figures/stokes_contour.svg\">"
   ]
  },
  {
   "cell_type": "markdown",
   "metadata": {},
   "source": [
    "#### Figure 2.  Contour plot of streamfunction at steady state"
   ]
  },
  {
   "cell_type": "markdown",
   "metadata": {},
   "source": [
    "### References"
   ]
  },
  {
   "cell_type": "markdown",
   "metadata": {},
   "source": [
    "*  Fletcher, C. A. (1988). Computational Techniques for Fluid Dynamics: Volume 2: Specific Techniques for Different Flow Categories.\n",
    "\n",
    "*  Ghia, U. K. N. G., Ghia, K. N., & Shin, C. T. (1982). High-Re solutions for incompressible flow using the Navier-Stokes equations and a multigrid method. Journal of computational physics, 48(3), 387-411.\n",
    "\n",
    "* Greenspan, D. (1974). Discrete numerical methods in physics and engineering (Vol. 312). New York: Academic Press.\n",
    "\n",
    "* Heil, Matthias (2007).  [Viscous Fluid Flow Vorticity Handout (pdf)](http://www.maths.manchester.ac.uk/~mheil/Lectures/Fluids/Material_2007/Vorticity.pdf)\n",
    "\n",
    "* Non-dimensionalization and scaling of the Navier Stokes equations.  (n.d.). In *Wikipedia*.  Retrieved January 30, 2015 [http://en.wikipedia.org/w/index.php?title=Non-dimensionalization_and_scaling_of_the_Navier-Stokes_equations](http://en.wikipedia.org/w/index.php?title=Non-dimensionalization_and_scaling_of_the_Navier%E2%80%93Stokes_equations&oldid=641860920)"
   ]
  },
  {
   "cell_type": "code",
   "execution_count": 3,
   "metadata": {
    "collapsed": false
   },
   "outputs": [
    {
     "data": {
      "text/html": [
       "<link href='http://fonts.googleapis.com/css?family=Alegreya+Sans:100,300,400,500,700,800,900,100italic,300italic,400italic,500italic,700italic,800italic,900italic' rel='stylesheet' type='text/css'>\n",
       "<link href='http://fonts.googleapis.com/css?family=Arvo:400,700,400italic' rel='stylesheet' type='text/css'>\n",
       "<link href='http://fonts.googleapis.com/css?family=PT+Mono' rel='stylesheet' type='text/css'>\n",
       "<link href='http://fonts.googleapis.com/css?family=Shadows+Into+Light' rel='stylesheet' type='text/css'>\n",
       "<link href='http://fonts.googleapis.com/css?family=Nixie+One' rel='stylesheet' type='text/css'>\n",
       "<link href='https://fonts.googleapis.com/css?family=Source+Code+Pro' rel='stylesheet' type='text/css'>\n",
       "<style>\n",
       "\n",
       "@font-face {\n",
       "    font-family: \"Computer Modern\";\n",
       "    src: url('http://mirrors.ctan.org/fonts/cm-unicode/fonts/otf/cmunss.otf');\n",
       "}\n",
       "\n",
       "#notebook_panel { /* main background */\n",
       "    background: rgb(245,245,245);\n",
       "}\n",
       "\n",
       "div.cell { /* set cell width */\n",
       "    width: 750px;\n",
       "}\n",
       "\n",
       "div #notebook { /* centre the content */\n",
       "    background: #fff; /* white background for content */\n",
       "    width: 1000px;\n",
       "    margin: auto;\n",
       "    padding-left: 0em;\n",
       "}\n",
       "\n",
       "#notebook li { /* More space between bullet points */\n",
       "    margin-top:0.8em;\n",
       "}\n",
       "\n",
       "/* draw border around running cells */\n",
       "div.cell.border-box-sizing.code_cell.running { \n",
       "    border: 1px solid #111;\n",
       "}\n",
       "\n",
       "/* Put a solid color box around each cell and its output, visually linking them*/\n",
       "div.cell.code_cell {\n",
       "    background-color: rgb(256,256,256); \n",
       "    border-radius: 0px; \n",
       "    padding: 0.5em;\n",
       "    margin-left:1em;\n",
       "    margin-top: 1em;\n",
       "}\n",
       "\n",
       "div.text_cell_render{\n",
       "    font-family: 'Alegreya Sans' sans-serif;\n",
       "    line-height: 140%;\n",
       "    font-size: 125%;\n",
       "    font-weight: 400;\n",
       "    width:600px;\n",
       "    margin-left:auto;\n",
       "    margin-right:auto;\n",
       "}\n",
       "\n",
       "\n",
       "/* Formatting for header cells */\n",
       ".text_cell_render h1 {\n",
       "    font-family: 'Nixie One', serif;\n",
       "    font-style:regular;\n",
       "    font-weight: 400;    \n",
       "    font-size: 45pt;\n",
       "    line-height: 100%;\n",
       "    color: rgb(0,51,102);\n",
       "    margin-bottom: 0.5em;\n",
       "    margin-top: 0.5em;\n",
       "    display: block;\n",
       "}\n",
       "\n",
       ".text_cell_render h2 {\n",
       "    font-family: 'Nixie One', serif;\n",
       "    font-weight: 400;\n",
       "    font-size: 30pt;\n",
       "    line-height: 100%;\n",
       "    color: rgb(0,51,102);\n",
       "    margin-bottom: 0.1em;\n",
       "    margin-top: 0.3em;\n",
       "    display: block;\n",
       "}\t\n",
       "\n",
       ".text_cell_render h3 {\n",
       "    font-family: 'Nixie One', serif;\n",
       "    margin-top:16px;\n",
       "    font-size: 22pt;\n",
       "    font-weight: 600;\n",
       "    margin-bottom: 3px;\n",
       "    font-style: regular;\n",
       "    color: rgb(102,102,0);\n",
       "}\n",
       "\n",
       ".text_cell_render h4 {    /*Use this for captions*/\n",
       "    font-family: 'Nixie One', serif;\n",
       "    font-size: 14pt;\n",
       "    text-align: center;\n",
       "    margin-top: 0em;\n",
       "    margin-bottom: 2em;\n",
       "    font-style: regular;\n",
       "}\n",
       "\n",
       ".text_cell_render h5 {  /*Use this for small titles*/\n",
       "    font-family: 'Nixie One', sans-serif;\n",
       "    font-weight: 400;\n",
       "    font-size: 16pt;\n",
       "    color: rgb(163,0,0);\n",
       "    font-style: italic;\n",
       "    margin-bottom: .1em;\n",
       "    margin-top: 0.8em;\n",
       "    display: block;\n",
       "}\n",
       "\n",
       ".text_cell_render h6 { /*use this for copyright note*/\n",
       "    font-family: 'PT Mono', sans-serif;\n",
       "    font-weight: 300;\n",
       "    font-size: 9pt;\n",
       "    line-height: 100%;\n",
       "    color: grey;\n",
       "    margin-bottom: 1px;\n",
       "    margin-top: 1px;\n",
       "}\n",
       "\n",
       ".CodeMirror{\n",
       "    font-family: \"Source Code Pro\";\n",
       "    font-size: 90%;\n",
       "}\n",
       "\n",
       ".alert-box {\n",
       "    padding:10px 10px 10px 36px;\n",
       "    margin:5px;\n",
       "}\n",
       "\n",
       ".success {\n",
       "    color:#666600;\n",
       "    background:rgb(240,242,229);\n",
       "}\n",
       "</style>\n",
       "<script>\n",
       "    MathJax.Hub.Config({\n",
       "                        TeX: {\n",
       "                           extensions: [\"AMSmath.js\"],\n",
       "                           equationNumbers: { autoNumber: \"AMS\", useLabelIds: true}\n",
       "                           },\n",
       "                tex2jax: {\n",
       "                    inlineMath: [ ['$','$'], [\"\\\\(\",\"\\\\)\"] ],\n",
       "                    displayMath: [ ['$$','$$'], [\"\\\\[\",\"\\\\]\"] ]\n",
       "                },\n",
       "                displayAlign: 'center', // Change this to 'center' to center equations.\n",
       "                \"HTML-CSS\": {\n",
       "                    styles: {'.MathJax_Display': {\"margin\": 4}}\n",
       "                }\n",
       "        });\n",
       "</script>\n"
      ],
      "text/plain": [
       "<IPython.core.display.HTML object>"
      ]
     },
     "execution_count": 3,
     "metadata": {},
     "output_type": "execute_result"
    }
   ],
   "source": [
    "from IPython.core.display import HTML\n",
    "css_file = '../../styles/numericalmoocstyle.css'\n",
    "HTML(open(css_file, \"r\").read())"
   ]
  }
 ],
 "metadata": {
  "kernelspec": {
   "display_name": "Python [Root]",
   "language": "python",
   "name": "Python [Root]"
  },
  "language_info": {
   "codemirror_mode": {
    "name": "ipython",
    "version": 3
   },
   "file_extension": ".py",
   "mimetype": "text/x-python",
   "name": "python",
   "nbconvert_exporter": "python",
   "pygments_lexer": "ipython3",
   "version": "3.5.2"
  }
 },
 "nbformat": 4,
 "nbformat_minor": 0
}
