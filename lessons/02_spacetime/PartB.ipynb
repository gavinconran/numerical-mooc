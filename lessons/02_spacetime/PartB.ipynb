{
 "cells": [
  {
   "cell_type": "markdown",
   "metadata": {},
   "source": [
    "## Traffic Flow: Part B"
   ]
  },
  {
   "cell_type": "code",
   "execution_count": 122,
   "metadata": {
    "collapsed": true
   },
   "outputs": [],
   "source": [
    "import numpy                       \n",
    "from matplotlib import pyplot                 \n",
    "%matplotlib inline\n",
    "from matplotlib import rcParams\n",
    "rcParams['font.family'] = 'serif'\n",
    "rcParams['font.size'] = 16"
   ]
  },
  {
   "cell_type": "markdown",
   "metadata": {},
   "source": [
    "### Parameters"
   ]
  },
  {
   "cell_type": "code",
   "execution_count": 123,
   "metadata": {
    "collapsed": true
   },
   "outputs": [],
   "source": [
    "nx=51\n",
    "dx = 2./(nx-1)\n",
    "V_max = 136\n",
    "L=11\n",
    "rho_max = 250\n",
    "dt = 0.001"
   ]
  },
  {
   "cell_type": "markdown",
   "metadata": {},
   "source": [
    "### Initial Conditions for t = 0"
   ]
  },
  {
   "cell_type": "code",
   "execution_count": 124,
   "metadata": {
    "collapsed": true
   },
   "outputs": [],
   "source": [
    "x = numpy.linspace(0,L,nx)\n",
    "rho0 = numpy.ones(nx)*20 ##note this change: was 10 before\n",
    "rho0[10:20] = 50"
   ]
  },
  {
   "cell_type": "markdown",
   "metadata": {},
   "source": [
    "#### Density"
   ]
  },
  {
   "cell_type": "code",
   "execution_count": 125,
   "metadata": {
    "collapsed": false
   },
   "outputs": [
    {
     "data": {
      "image/png": "[encoded data removed]",
      "text/plain": [
       "<matplotlib.figure.Figure at 0x7f066f0ca080>"
      ]
     },
     "metadata": {},
     "output_type": "display_data"
    }
   ],
   "source": [
    "pyplot.plot(x, rho0, color='#003366', ls='--', lw=3)\n",
    "pyplot.ylim(0,60);"
   ]
  },
  {
   "cell_type": "markdown",
   "metadata": {},
   "source": [
    "#### Velocity"
   ]
  },
  {
   "cell_type": "code",
   "execution_count": 126,
   "metadata": {
    "collapsed": false
   },
   "outputs": [
    {
     "data": {
      "image/png": "[encoded data removed]",
      "text/plain": [
       "<matplotlib.figure.Figure at 0x7f066f06b438>"
      ]
     },
     "metadata": {},
     "output_type": "display_data"
    }
   ],
   "source": [
    "vel_t0 = V_max*(1-(rho0/float(rho_max)))\n",
    "pyplot.plot(x, vel_t0, color='#003366', ls='--', lw=3)\n",
    "pyplot.ylim(0,200);"
   ]
  },
  {
   "cell_type": "markdown",
   "metadata": {},
   "source": [
    "#### Velocity conversion function"
   ]
  },
  {
   "cell_type": "code",
   "execution_count": 127,
   "metadata": {
    "collapsed": true
   },
   "outputs": [],
   "source": [
    "def conversion(v):\n",
    "    return (v*1000) / (60 * 60)"
   ]
  },
  {
   "cell_type": "markdown",
   "metadata": {},
   "source": [
    "### Question: Minimum velocity at t = 0"
   ]
  },
  {
   "cell_type": "code",
   "execution_count": 128,
   "metadata": {
    "collapsed": false
   },
   "outputs": [
    {
     "name": "stdout",
     "output_type": "stream",
     "text": [
      "The minimum velocity at t=0 is 30.222222222222225.\n"
     ]
    }
   ],
   "source": [
    "vel_t0 = V_max*(1-rho0/float(rho_max))\n",
    "min_vel = conversion(min(vel_t0))\n",
    "print(\"The minimum velocity at t=0 is {}.\".format(min_vel))"
   ]
  },
  {
   "cell_type": "code",
   "execution_count": 129,
   "metadata": {
    "collapsed": false
   },
   "outputs": [
    {
     "data": {
      "text/plain": [
       "array([ 34.75555556,  34.75555556,  34.75555556,  34.75555556,\n",
       "        34.75555556,  34.75555556,  34.75555556,  34.75555556,\n",
       "        34.75555556,  34.75555556,  30.22222222,  30.22222222,\n",
       "        30.22222222,  30.22222222,  30.22222222,  30.22222222,\n",
       "        30.22222222,  30.22222222,  30.22222222,  30.22222222,\n",
       "        34.75555556,  34.75555556,  34.75555556,  34.75555556,\n",
       "        34.75555556,  34.75555556,  34.75555556,  34.75555556,\n",
       "        34.75555556,  34.75555556,  34.75555556,  34.75555556,\n",
       "        34.75555556,  34.75555556,  34.75555556,  34.75555556,\n",
       "        34.75555556,  34.75555556,  34.75555556,  34.75555556,\n",
       "        34.75555556,  34.75555556,  34.75555556,  34.75555556,\n",
       "        34.75555556,  34.75555556,  34.75555556,  34.75555556,\n",
       "        34.75555556,  34.75555556,  34.75555556])"
      ]
     },
     "execution_count": 129,
     "metadata": {},
     "output_type": "execute_result"
    }
   ],
   "source": [
    "conversion(vel_t0)"
   ]
  },
  {
   "cell_type": "code",
   "execution_count": 130,
   "metadata": {
    "collapsed": false
   },
   "outputs": [
    {
     "data": {
      "text/plain": [
       "array([ 20.,  20.,  20.,  20.,  20.,  20.,  20.,  20.,  20.,  20.,  50.,\n",
       "        50.,  50.,  50.,  50.,  50.,  50.,  50.,  50.,  50.,  20.,  20.,\n",
       "        20.,  20.,  20.,  20.,  20.,  20.,  20.,  20.,  20.,  20.,  20.,\n",
       "        20.,  20.,  20.,  20.,  20.,  20.,  20.,  20.,  20.,  20.,  20.,\n",
       "        20.,  20.,  20.,  20.,  20.,  20.,  20.])"
      ]
     },
     "execution_count": 130,
     "metadata": {},
     "output_type": "execute_result"
    }
   ],
   "source": [
    "rho0"
   ]
  },
  {
   "cell_type": "markdown",
   "metadata": {},
   "source": [
    "### Loop"
   ]
  },
  {
   "cell_type": "code",
   "execution_count": 134,
   "metadata": {
    "collapsed": false
   },
   "outputs": [],
   "source": [
    "nt = 50 #250  # run for 3 mins\n",
    "rho3 = rho0.copy()\n",
    "\n",
    "for n in range(1, nt):  \n",
    "    rho_n = rho3.copy() \n",
    "    rho3[1:] = rho_n[1:] + dt/(dx) * (rho_n[0:-1]-rho_n[1:])\n",
    "    rho3[0] = 20.0 #10.0"
   ]
  },
  {
   "cell_type": "markdown",
   "metadata": {},
   "source": [
    "### Question: Average velocity at t = 3"
   ]
  },
  {
   "cell_type": "code",
   "execution_count": 135,
   "metadata": {
    "collapsed": false
   },
   "outputs": [
    {
     "name": "stdout",
     "output_type": "stream",
     "text": [
      "The average velocity at t=3 is 33.86666666666666.\n",
      "The minimum velocity at t=3 is 30.222223676675128.\n"
     ]
    }
   ],
   "source": [
    "vel_t3 = V_max*(1-rho3/float(rho_max))\n",
    "vel_t3_conv = conversion(vel_t3)\n",
    "vel_t3_conv_mean = numpy.mean(vel_t3_conv)\n",
    "vel_t3_conv_min = numpy.min(vel_t3_conv)\n",
    "print(\"The average velocity at t=3 is {}.\".format(vel_t3_conv_mean))\n",
    "print(\"The minimum velocity at t=3 is {}.\".format(vel_t3_conv_min))"
   ]
  },
  {
   "cell_type": "code",
   "execution_count": 120,
   "metadata": {
    "collapsed": false
   },
   "outputs": [
    {
     "data": {
      "text/plain": [
       "array([ 34.75555556,  34.75555556,  34.75555556,  34.75555556,\n",
       "        34.75555556,  34.75555556,  34.75555556,  34.75555556,\n",
       "        34.75555556,  34.75555556,  33.44443139,  31.79712154,\n",
       "        30.7833924 ,  30.37616787,  30.25608884,  30.2283783 ,\n",
       "        30.22316777,  30.22234706,  30.22223658,  30.22222368,\n",
       "        31.53334652,  33.18065625,  34.19438538,  34.60160991,\n",
       "        34.72168894,  34.74939948,  34.75461001,  34.75543072,\n",
       "        34.7555412 ,  34.7555541 ,  34.75555542,  34.75555555,\n",
       "        34.75555555,  34.75555556,  34.75555556,  34.75555556,\n",
       "        34.75555556,  34.75555556,  34.75555556,  34.75555556,\n",
       "        34.75555556,  34.75555556,  34.75555556,  34.75555556,\n",
       "        34.75555556,  34.75555556,  34.75555556,  34.75555556,\n",
       "        34.75555556,  34.75555556,  34.75555556])"
      ]
     },
     "execution_count": 120,
     "metadata": {},
     "output_type": "execute_result"
    }
   ],
   "source": [
    "vel_t3_conv"
   ]
  },
  {
   "cell_type": "markdown",
   "metadata": {},
   "source": [
    "#### Velocity"
   ]
  },
  {
   "cell_type": "code",
   "execution_count": 121,
   "metadata": {
    "collapsed": false
   },
   "outputs": [
    {
     "data": {
      "image/png": "[encoded data removed]",
      "text/plain": [
       "<matplotlib.figure.Figure at 0x7f066f212550>"
      ]
     },
     "metadata": {},
     "output_type": "display_data"
    }
   ],
   "source": [
    "pyplot.plot(x, vel_t3_conv, color='#003366', ls='--', lw=3)\n",
    "pyplot.ylim(0,60);"
   ]
  },
  {
   "cell_type": "code",
   "execution_count": null,
   "metadata": {
    "collapsed": true
   },
   "outputs": [],
   "source": []
  },
  {
   "cell_type": "code",
   "execution_count": null,
   "metadata": {
    "collapsed": true
   },
   "outputs": [],
   "source": []
  },
  {
   "cell_type": "code",
   "execution_count": null,
   "metadata": {
    "collapsed": true
   },
   "outputs": [],
   "source": []
  }
 ],
 "metadata": {
  "anaconda-cloud": {},
  "kernelspec": {
   "display_name": "Python [Root]",
   "language": "python",
   "name": "Python [Root]"
  },
  "language_info": {
   "codemirror_mode": {
    "name": "ipython",
    "version": 3
   },
   "file_extension": ".py",
   "mimetype": "text/x-python",
   "name": "python",
   "nbconvert_exporter": "python",
   "pygments_lexer": "ipython3",
   "version": "3.5.2"
  }
 },
 "nbformat": 4,
 "nbformat_minor": 0
}
